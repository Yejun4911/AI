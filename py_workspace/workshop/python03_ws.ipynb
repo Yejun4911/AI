{
 "cells": [
  {
   "cell_type": "markdown",
   "metadata": {},
   "source": [
    "## Problem\n",
    "### 1.입력된 화폐를 원화로 환산 시키는 코드를 작성하세요\n",
    "    "
   ]
  },
  {
   "cell_type": "code",
   "execution_count": 2,
   "metadata": {},
   "outputs": [],
   "source": [
    "exchangeList = {\n",
    "    \"달러\":1160,\n",
    "    \"엔\":10.61,\n",
    "    \"유로\":1297,\n",
    "    \"위안\":165.93\n",
    "}"
   ]
  },
  {
   "cell_type": "code",
   "execution_count": 6,
   "metadata": {},
   "outputs": [
    {
     "name": "stdout",
     "output_type": "stream",
     "text": [
      "입력 : 100 달러\n",
      "116000\n"
     ]
    }
   ],
   "source": [
    "#\n",
    "money=input(\"입력 : \")\n",
    "money=money.split(\" \")\n",
    "\n",
    "change=exchangeList[money[1]]\n",
    "print(int(money[0])*change)"
   ]
  },
  {
   "cell_type": "markdown",
   "metadata": {},
   "source": [
    "### 2.아래 출력 결과가 되도록 딕셔너리와 반복문을 사용하세요"
   ]
  },
  {
   "cell_type": "code",
   "execution_count": 15,
   "metadata": {},
   "outputs": [],
   "source": [
    "months1 = [\"월\", \"화\", \"수\", \"목\", \"금\", \"토\",  \"일\"]\n",
    "months2 = [\"Monday\", \"Tueaday\", \"Wednesday\", \"Thuraday\", \"Friday\", \"Saturday\", \"Sunday\"]"
   ]
  },
  {
   "cell_type": "code",
   "execution_count": 16,
   "metadata": {},
   "outputs": [
    {
     "name": "stdout",
     "output_type": "stream",
     "text": [
      "{'월': 'Monday', '화': 'Tueaday', '수': 'Wednesday', '목': 'Thuraday', '금': 'Friday', '토': 'Saturday', '일': 'Sunday'}\n"
     ]
    }
   ],
   "source": [
    "dic={}\n",
    "for i in range(0,7):\n",
    "        dic[months1[i]]=months2[i]\n",
    "print(dic)"
   ]
  },
  {
   "cell_type": "markdown",
   "metadata": {},
   "source": [
    "### 3. 실행창에 입력된 문장중에서 모음의 갯수를 찾아서 출력하세요"
   ]
  },
  {
   "cell_type": "code",
   "execution_count": 21,
   "metadata": {},
   "outputs": [
    {
     "name": "stdout",
     "output_type": "stream",
     "text": [
      "문장을 입력하세요. \n",
      "hello\n",
      "2\n"
     ]
    }
   ],
   "source": [
    "sentence = input(\"문장을 입력하세요. \\n\").lower()\n",
    "#\n",
    "sum=0\n",
    "s=['a','e','i','o','u']\n",
    "for i in s:\n",
    "    sum+=sentence.count(i)\n",
    "print(sum)"
   ]
  }
 ],
 "metadata": {
  "kernelspec": {
   "display_name": "Python 3",
   "language": "python",
   "name": "python3"
  },
  "language_info": {
   "codemirror_mode": {
    "name": "ipython",
    "version": 3
   },
   "file_extension": ".py",
   "mimetype": "text/x-python",
   "name": "python",
   "nbconvert_exporter": "python",
   "pygments_lexer": "ipython3",
   "version": "3.8.5"
  }
 },
 "nbformat": 4,
 "nbformat_minor": 4
}
