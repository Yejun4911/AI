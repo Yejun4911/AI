{
 "cells": [
  {
   "cell_type": "markdown",
   "metadata": {},
   "source": [
    "## Problem\n",
    "### 1. 리스트\n",
    "    출력 결과를 보고 나머지 코드를 완성하세요\n"
   ]
  },
  {
   "cell_type": "code",
   "execution_count": 17,
   "metadata": {},
   "outputs": [
    {
     "name": "stdout",
     "output_type": "stream",
     "text": [
      "[5, 7, 10, 6, 9, 3]\n"
     ]
    }
   ],
   "source": [
    "myList = [3,9,6,10,7,5]\n",
    "\n",
    "print(myList[::-1])"
   ]
  },
  {
   "cell_type": "code",
   "execution_count": 35,
   "metadata": {},
   "outputs": [],
   "source": [
    "tempL=[0,1,2]"
   ]
  },
  {
   "cell_type": "code",
   "execution_count": 36,
   "metadata": {},
   "outputs": [
    {
     "name": "stdout",
     "output_type": "stream",
     "text": [
      "[0, 3, 9, 6, 10, 7, 0, 1, 2]\n"
     ]
    }
   ],
   "source": [
    "#\n",
    "myList=[0,3,9,6,10,7]\n",
    "myList.extend(tempL)\n",
    "print(myList)"
   ]
  },
  {
   "cell_type": "markdown",
   "metadata": {},
   "source": [
    "### 2. 딕셔너리\n",
    "    출력 결과를 보고 나머지 코드를 완성하세요"
   ]
  },
  {
   "cell_type": "code",
   "execution_count": 41,
   "metadata": {},
   "outputs": [
    {
     "data": {
      "text/plain": [
       "{'철수': '95', '영희': '88', '길동': '92'}"
      ]
     },
     "execution_count": 41,
     "metadata": {},
     "output_type": "execute_result"
    }
   ],
   "source": [
    "score={\n",
    "    \"철수\":\"95\",\n",
    "    \"영희\":\"88\",\n",
    "    \"길동\":\"92\"\n",
    "}\n",
    "score"
   ]
  },
  {
   "cell_type": "code",
   "execution_count": 42,
   "metadata": {},
   "outputs": [
    {
     "name": "stdout",
     "output_type": "stream",
     "text": [
      "{'철수': '95', '영희': '88', '수지': 87}\n"
     ]
    }
   ],
   "source": [
    "# 수지 : 87  추가\n",
    "# 길동은 삭제\n",
    "score['수지']=87\n",
    "del score['길동']"
   ]
  },
  {
   "cell_type": "code",
   "execution_count": 43,
   "metadata": {},
   "outputs": [
    {
     "name": "stdout",
     "output_type": "stream",
     "text": [
      "{'철수': '95', '영희': '88', '수지': 98}\n"
     ]
    }
   ],
   "source": [
    "score['수지']=98\n",
    "print(score)"
   ]
  },
  {
   "cell_type": "code",
   "execution_count": 46,
   "metadata": {},
   "outputs": [
    {
     "name": "stdout",
     "output_type": "stream",
     "text": [
      "{'철수': '95', '영희': '88', '수지': 98, '민영': '85', '두리': '55', '남일': '69'}\n"
     ]
    }
   ],
   "source": [
    "# 민영,두리, 남일 한꺼번에 추가\n",
    "score.update({\"민영\":'85',\"두리\":'55',\"남일\":'69'})\n",
    "print(score)"
   ]
  },
  {
   "cell_type": "code",
   "execution_count": 49,
   "metadata": {},
   "outputs": [
    {
     "name": "stdout",
     "output_type": "stream",
     "text": [
      "동길,22\n",
      "{'철수': '95', '영희': '88', '수지': 98, '민영': '85', '두리': '55', '남일': '69', '민호': '88', '예준': '94', '동길': '22'}\n"
     ]
    }
   ],
   "source": [
    "# 다음은 input()을 사용해서 이름 점수를 ,를 기준으로 각각 입력하고\n",
    "# score에 들어있지 않은 키값이라면 score에 추가하는 로직을 작성\n",
    "# 최종적으로 결과를 출력받는다.\n",
    "\n",
    "# ex) 이름과 점수를 , 기준으로 입력하세요 >> 민호, 88\n",
    "\n",
    "#\n",
    "value = input()\n",
    "value = value.split(\",\")\n",
    "score[value[0]]=value[1]\n",
    "print(score)"
   ]
  },
  {
   "cell_type": "markdown",
   "metadata": {},
   "source": [
    "### 3. for문\n",
    "   "
   ]
  },
  {
   "cell_type": "code",
   "execution_count": 62,
   "metadata": {},
   "outputs": [
    {
     "name": "stdout",
     "output_type": "stream",
     "text": [
      "result.h\n",
      "intra.c\n"
     ]
    }
   ],
   "source": [
    "filenames = ['result.h', 'intra.c', 'run.py']\n",
    "\n",
    "for i in filenames:\n",
    "        if i[-1:]==\"h\" or i[-1:]==\"c\":\n",
    "            print(i)\n",
    "            \n",
    "# filenames 에서 파일의 확장자가 'h' 이거나 'c' 인 파일만 출력"
   ]
  },
  {
   "cell_type": "code",
   "execution_count": 2,
   "metadata": {},
   "outputs": [
    {
     "name": "stdout",
     "output_type": "stream",
     "text": [
      "1\n",
      "3\n",
      "6\n",
      "10\n",
      "15\n",
      "21\n",
      "28\n",
      "36\n",
      "45\n",
      "55\n",
      "220\n"
     ]
    }
   ],
   "source": [
    "subTotal=0\n",
    "total=0\n",
    "for i in range(1,11):\n",
    "    subTotal+=i\n",
    "    total+=subTotal\n",
    "    print(subTotal)\n",
    "print(total)"
   ]
  }
 ],
 "metadata": {
  "kernelspec": {
   "display_name": "Python 3",
   "language": "python",
   "name": "python3"
  },
  "language_info": {
   "codemirror_mode": {
    "name": "ipython",
    "version": 3
   },
   "file_extension": ".py",
   "mimetype": "text/x-python",
   "name": "python",
   "nbconvert_exporter": "python",
   "pygments_lexer": "ipython3",
   "version": "3.8.5"
  }
 },
 "nbformat": 4,
 "nbformat_minor": 4
}
