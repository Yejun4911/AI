{
 "cells": [
  {
   "cell_type": "markdown",
   "metadata": {},
   "source": [
    "# 1. 연봉 계산하기\n",
    "\n",
    "### 철수는 시급 15000원을 받으며 회사를 다니고 있습니다.<br>날마다 일하는 시간은 5일을 간격으로 반복되고, 매 달마다 일하는 날 수가 정해져 있습니다.<br>연말에 매달 월급의 10%의 합만큼 보너스를 받는다고 했을 때, 철수의 매 달의 월급과 연봉은 각각 얼마인가요?"
   ]
  },
  {
   "cell_type": "code",
   "execution_count": 2,
   "metadata": {},
   "outputs": [],
   "source": [
    "# hours - 5일을 간격으로 반복되는 근무시간, days - 달마다 일하는 일 수(1-12월)\n",
    "hours = [8,8,8,7,7]\n",
    "days = [23,18,24,23,24,22,23,22,23,22,20,10]"
   ]
  },
  {
   "cell_type": "code",
   "execution_count": 1,
   "metadata": {},
   "outputs": [
    {
     "ename": "NameError",
     "evalue": "name 'days' is not defined",
     "output_type": "error",
     "traceback": [
      "\u001b[1;31m---------------------------------------------------------------------------\u001b[0m",
      "\u001b[1;31mNameError\u001b[0m                                 Traceback (most recent call last)",
      "\u001b[1;32m<ipython-input-1-632a630f45e0>\u001b[0m in \u001b[0;36m<module>\u001b[1;34m\u001b[0m\n\u001b[0;32m      1\u001b[0m \u001b[0mtemp\u001b[0m\u001b[1;33m=\u001b[0m\u001b[1;36m0\u001b[0m\u001b[1;33m\u001b[0m\u001b[1;33m\u001b[0m\u001b[0m\n\u001b[0;32m      2\u001b[0m \u001b[0manswer\u001b[0m\u001b[1;33m=\u001b[0m\u001b[1;33m[\u001b[0m\u001b[1;33m]\u001b[0m\u001b[1;33m\u001b[0m\u001b[1;33m\u001b[0m\u001b[0m\n\u001b[1;32m----> 3\u001b[1;33m \u001b[1;32mfor\u001b[0m \u001b[0mi\u001b[0m \u001b[1;32min\u001b[0m \u001b[0mdays\u001b[0m\u001b[1;33m:\u001b[0m\u001b[1;33m\u001b[0m\u001b[1;33m\u001b[0m\u001b[0m\n\u001b[0m\u001b[0;32m      4\u001b[0m     \u001b[0mtemp\u001b[0m\u001b[1;33m=\u001b[0m\u001b[1;36m0\u001b[0m\u001b[1;33m\u001b[0m\u001b[1;33m\u001b[0m\u001b[0m\n\u001b[0;32m      5\u001b[0m     \u001b[1;32mfor\u001b[0m \u001b[0mj\u001b[0m \u001b[1;32min\u001b[0m \u001b[0mrange\u001b[0m\u001b[1;33m(\u001b[0m\u001b[1;36m1\u001b[0m\u001b[1;33m,\u001b[0m\u001b[0mi\u001b[0m\u001b[1;33m)\u001b[0m\u001b[1;33m:\u001b[0m\u001b[1;33m\u001b[0m\u001b[1;33m\u001b[0m\u001b[0m\n",
      "\u001b[1;31mNameError\u001b[0m: name 'days' is not defined"
     ]
    }
   ],
   "source": [
    "temp=0\n",
    "answer=[]\n",
    "for i in days:\n",
    "    temp=0\n",
    "    for j in range(1,i):\n",
    "        temp+=hours[i%5]*15000\n",
    "    answer.append(temp+(temp*0.1))\n",
    "print(answer)\n",
    "days_price=sum(answer)\n",
    "print(days_price)    "
   ]
  },
  {
   "cell_type": "markdown",
   "metadata": {},
   "source": [
    "# 2. 예금, 적금 계산하기\n",
    "\n",
    "### 철수는 위에서 1년동안 벌 돈을 보너스를 제외하고 전부 저축을 하려고 합니다.<br>매달 저축하는 적금의 경우에는 월리가 0.4%이고,<br>1년동안 번 돈을 한번에 저축하는 예금의 경우에는 월 복리가 0.2% 입니다.\n",
    "### 그렇다면 적금과 예금으로 얻을 수 있는 이득은 각각 얼마이고, 둘 중 어떤게 얼마나 더 이득인가요?"
   ]
  },
  {
   "cell_type": "code",
   "execution_count": 14,
   "metadata": {},
   "outputs": [
    {
     "name": "stdout",
     "output_type": "stream",
     "text": [
      "2310000\n",
      "1785000\n",
      "2415000\n",
      "2310000\n",
      "2415000\n",
      "2520000\n",
      "2310000\n",
      "2520000\n",
      "2310000\n",
      "2520000\n",
      "2280000\n",
      "1080000\n",
      "[9240.0, 7140.0, 9660.0, 9240.0, 9660.0, 10080.0, 9240.0, 10080.0, 9240.0, 10080.0, 9120.0, 4320.0]\n",
      "107100.0\n"
     ]
    }
   ],
   "source": [
    "days_cnt=[]\n",
    "for s in answer:\n",
    "    print(s)\n",
    "    days_cnt.append(s*0.04)\n",
    "print(days_cnt)\n",
    "print(sum(days_cnt))\n",
    "\n",
    "    "
   ]
  }
 ],
 "metadata": {
  "kernelspec": {
   "display_name": "Python 3",
   "language": "python",
   "name": "python3"
  },
  "language_info": {
   "codemirror_mode": {
    "name": "ipython",
    "version": 3
   },
   "file_extension": ".py",
   "mimetype": "text/x-python",
   "name": "python",
   "nbconvert_exporter": "python",
   "pygments_lexer": "ipython3",
   "version": "3.8.5"
  }
 },
 "nbformat": 4,
 "nbformat_minor": 2
}
