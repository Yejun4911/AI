{
 "cells": [
  {
   "cell_type": "markdown",
   "metadata": {},
   "source": [
    "### GradientBoostingMachine"
   ]
  },
  {
   "cell_type": "markdown",
   "metadata": {},
   "source": [
    "### GBM\n",
    "    Decision Tree --> Ensemble 알고리즘\n",
    "    1) Bagging 알고리즘 --> RandomForest Machine\n",
    "    2) Boosting 알고리즘 --> GradientBoosting Machine\n",
    "\n",
    "    Boosting 알고리즘의 대표적인 구현에는 GradientBoosting이 있다.\n",
    "    모델을 학습-예측하면서 잘못예측한 데이타에 가중치 부여를 통해서 \n",
    "    오류를 개선해 나가면서 학습하는 방식이다. \n",
    "    이때 가중치를 업데이트 하는 방법으로 경사하강법(Gradient Descent)를 이용한다.\n",
    "\n",
    "    결정트리 방식보다 GradientBoosting이방식이 더 고도화 되어지고 좋아진 반면에\n",
    "    각 모델에서 사용할수 있는 hyperparameter들도 늘어난다.\n",
    "    \n",
    "    결과적으로 이 모델 학습방식은 hyperparameter에 따라서 성능에 큰 차이를 보인다."
   ]
  },
  {
   "cell_type": "code",
   "execution_count": 2,
   "metadata": {},
   "outputs": [],
   "source": [
    "from sklearn.datasets import load_breast_cancer\n",
    "from sklearn.ensemble import GradientBoostingClassifier\n",
    "from sklearn.model_selection import train_test_split\n",
    "import matplotlib.pyplot as plt\n",
    "import numpy as np"
   ]
  },
  {
   "cell_type": "code",
   "execution_count": null,
   "metadata": {},
   "outputs": [],
   "source": []
  },
  {
   "cell_type": "code",
   "execution_count": null,
   "metadata": {},
   "outputs": [],
   "source": []
  },
  {
   "cell_type": "code",
   "execution_count": null,
   "metadata": {},
   "outputs": [],
   "source": []
  },
  {
   "cell_type": "code",
   "execution_count": null,
   "metadata": {},
   "outputs": [],
   "source": [
    "# 특성 중요도 시각화하기\n",
    "def plot_feature_importances_cancer(gbrt):\n",
    "    n_features = cancer.data.shape[1]\n",
    "    plt.barh(range(n_features), gbrt.feature_importances_, align='center')\n",
    "    plt.yticks(np.arange(n_features), cancer.feature_names)\n",
    "    plt.xlabel(\"Feature Importance\")\n",
    "    plt.ylabel(\"Feature\")\n",
    "    plt.ylim(-1, n_features)\n",
    "\n",
    "\n",
    "\n",
    "plot_feature_importances_cancer(gbrt)"
   ]
  }
 ],
 "metadata": {
  "kernelspec": {
   "display_name": "Python 3",
   "language": "python",
   "name": "python3"
  },
  "language_info": {
   "codemirror_mode": {
    "name": "ipython",
    "version": 3
   },
   "file_extension": ".py",
   "mimetype": "text/x-python",
   "name": "python",
   "nbconvert_exporter": "python",
   "pygments_lexer": "ipython3",
   "version": "3.8.5"
  }
 },
 "nbformat": 4,
 "nbformat_minor": 4
}
