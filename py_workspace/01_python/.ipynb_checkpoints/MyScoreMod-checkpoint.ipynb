{
 "cells": [
  {
   "cell_type": "code",
   "execution_count": null,
   "metadata": {},
   "outputs": [],
   "source": [
    "'''\n",
    "4개의 함수를 가지는 모듈\n",
    "getSum(data)\n",
    "getMean(data)\n",
    "getMax(data)\n",
    "getMin(data)\n",
    "\n",
    "getTwoSum(1,3)\n",
    "'''"
   ]
  },
  {
   "cell_type": "code",
   "execution_count": 35,
   "metadata": {},
   "outputs": [
    {
     "name": "stdout",
     "output_type": "stream",
     "text": [
      "Overwriting MyScoreMod.py\n"
     ]
    }
   ],
   "source": [
    "%%writefile MyScoreMod.py\n",
    "def getSum(data):\n",
    "    total=0\n",
    "    for i in data:\n",
    "        total+=i\n",
    "    return total\n",
    "\n",
    "def getMean(data):\n",
    "    return getSum(data)/len(data)\n",
    "\n",
    "def getMax(data):\n",
    "    maxV=data[0]\n",
    "    for i in data[1:]:\n",
    "        if i>max:\n",
    "            maxV=i\n",
    "            \n",
    "    return maxV\n",
    "def getMin(data):   \n",
    "    minV=data[0]\n",
    "    for i in data[1:]:\n",
    "        if i<max:\n",
    "            minV=i\n",
    "    return minV\n",
    "def getTwoSum(num1,num2):\n",
    "    sum=0\n",
    "    if num1<num2:\n",
    "        num1,num2 = num2,num1;\n",
    "    for i in range(num1,num2):\n",
    "        sum+=i\n",
    "    return 0"
   ]
  },
  {
   "cell_type": "code",
   "execution_count": 40,
   "metadata": {},
   "outputs": [
    {
     "name": "stdout",
     "output_type": "stream",
     "text": [
      "값입력1,2,3\n",
      "[1, 2, 3]\n"
     ]
    },
    {
     "ename": "NameError",
     "evalue": "name 'getMean' is not defined",
     "output_type": "error",
     "traceback": [
      "\u001b[1;31m---------------------------------------------------------------------------\u001b[0m",
      "\u001b[1;31mNameError\u001b[0m                                 Traceback (most recent call last)",
      "\u001b[1;32m<ipython-input-40-500c85032a75>\u001b[0m in \u001b[0;36m<module>\u001b[1;34m\u001b[0m\n\u001b[0;32m      6\u001b[0m \u001b[1;33m\u001b[0m\u001b[0m\n\u001b[0;32m      7\u001b[0m \u001b[0mres\u001b[0m\u001b[1;33m=\u001b[0m\u001b[0mgetSum\u001b[0m\u001b[1;33m(\u001b[0m\u001b[0mintDataL\u001b[0m\u001b[1;33m)\u001b[0m\u001b[1;33m\u001b[0m\u001b[1;33m\u001b[0m\u001b[0m\n\u001b[1;32m----> 8\u001b[1;33m \u001b[0mmean\u001b[0m\u001b[1;33m=\u001b[0m\u001b[0mgetMean\u001b[0m\u001b[1;33m(\u001b[0m\u001b[0mintDataL\u001b[0m\u001b[1;33m)\u001b[0m\u001b[1;33m\u001b[0m\u001b[1;33m\u001b[0m\u001b[0m\n\u001b[0m\u001b[0;32m      9\u001b[0m \u001b[0mprint\u001b[0m\u001b[1;33m(\u001b[0m\u001b[1;34m'총합 : '\u001b[0m\u001b[1;33m,\u001b[0m\u001b[0mres\u001b[0m\u001b[1;33m)\u001b[0m\u001b[1;33m\u001b[0m\u001b[1;33m\u001b[0m\u001b[0m\n\u001b[0;32m     10\u001b[0m \u001b[0mprint\u001b[0m\u001b[1;33m(\u001b[0m\u001b[1;34m'평균 : '\u001b[0m\u001b[1;33m,\u001b[0m\u001b[0mgetMean\u001b[0m\u001b[1;33m(\u001b[0m\u001b[0mintDataL\u001b[0m\u001b[1;33m)\u001b[0m\u001b[1;33m)\u001b[0m\u001b[1;33m\u001b[0m\u001b[1;33m\u001b[0m\u001b[0m\n",
      "\u001b[1;31mNameError\u001b[0m: name 'getMean' is not defined"
     ]
    }
   ],
   "source": [
    "\n",
    "dataL = input('값입력').split(',') #1,2,3\n",
    "#getSum(dataL) #['1','2','3']\n",
    "\n",
    "intDataL=[int(i) for i in dataL]\n",
    "print(intDataL)\n",
    "\n",
    "res=getSum(intDataL)\n",
    "\n",
    "print('총합 : ',res)\n",
    "print('평균 : ',getMean(intDataL))\n",
    "print('최대 : ',getMax(intDataL))\n",
    "print('최소 : ',getMin(intDataL))\n"
   ]
  },
  {
   "cell_type": "code",
   "execution_count": null,
   "metadata": {},
   "outputs": [],
   "source": []
  },
  {
   "cell_type": "code",
   "execution_count": null,
   "metadata": {},
   "outputs": [],
   "source": []
  },
  {
   "cell_type": "code",
   "execution_count": null,
   "metadata": {},
   "outputs": [],
   "source": []
  },
  {
   "cell_type": "code",
   "execution_count": null,
   "metadata": {},
   "outputs": [],
   "source": []
  }
 ],
 "metadata": {
  "kernelspec": {
   "display_name": "Python 3",
   "language": "python",
   "name": "python3"
  },
  "language_info": {
   "codemirror_mode": {
    "name": "ipython",
    "version": 3
   },
   "file_extension": ".py",
   "mimetype": "text/x-python",
   "name": "python",
   "nbconvert_exporter": "python",
   "pygments_lexer": "ipython3",
   "version": "3.8.5"
  }
 },
 "nbformat": 4,
 "nbformat_minor": 4
}
