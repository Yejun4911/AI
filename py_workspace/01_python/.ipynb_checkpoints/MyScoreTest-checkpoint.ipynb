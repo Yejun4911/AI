{
 "cells": [
  {
   "cell_type": "code",
   "execution_count": 13,
   "metadata": {},
   "outputs": [],
   "source": [
    "import MyScoreMod as ms\n",
    "from MyScoreMod import *"
   ]
  },
  {
   "cell_type": "code",
   "execution_count": 14,
   "metadata": {},
   "outputs": [
    {
     "name": "stdout",
     "output_type": "stream",
     "text": [
      "값입력1,2,3\n",
      "[1, 2, 3]\n",
      "총합 :  6\n"
     ]
    },
    {
     "ename": "AttributeError",
     "evalue": "module 'MyScoreMod' has no attribute 'getMax'",
     "output_type": "error",
     "traceback": [
      "\u001b[1;31m---------------------------------------------------------------------------\u001b[0m",
      "\u001b[1;31mAttributeError\u001b[0m                            Traceback (most recent call last)",
      "\u001b[1;32m<ipython-input-14-c016948abced>\u001b[0m in \u001b[0;36m<module>\u001b[1;34m\u001b[0m\n\u001b[0;32m      7\u001b[0m \u001b[0mres\u001b[0m\u001b[1;33m=\u001b[0m\u001b[0mms\u001b[0m\u001b[1;33m.\u001b[0m\u001b[0mgetSum\u001b[0m\u001b[1;33m(\u001b[0m\u001b[0mintDataL\u001b[0m\u001b[1;33m)\u001b[0m\u001b[1;33m\u001b[0m\u001b[1;33m\u001b[0m\u001b[0m\n\u001b[0;32m      8\u001b[0m \u001b[0mprint\u001b[0m\u001b[1;33m(\u001b[0m\u001b[1;34m'총합 : '\u001b[0m\u001b[1;33m,\u001b[0m\u001b[0mres\u001b[0m\u001b[1;33m)\u001b[0m\u001b[1;33m\u001b[0m\u001b[1;33m\u001b[0m\u001b[0m\n\u001b[1;32m----> 9\u001b[1;33m \u001b[0mprint\u001b[0m\u001b[1;33m(\u001b[0m\u001b[1;34m'최대 : '\u001b[0m\u001b[1;33m,\u001b[0m\u001b[0mms\u001b[0m\u001b[1;33m.\u001b[0m\u001b[0mgetMax\u001b[0m\u001b[1;33m(\u001b[0m\u001b[0mintDataL\u001b[0m\u001b[1;33m)\u001b[0m\u001b[1;33m)\u001b[0m\u001b[1;33m\u001b[0m\u001b[1;33m\u001b[0m\u001b[0m\n\u001b[0m\u001b[0;32m     10\u001b[0m \u001b[0mprint\u001b[0m\u001b[1;33m(\u001b[0m\u001b[1;34m'최소 : '\u001b[0m\u001b[1;33m,\u001b[0m\u001b[0mms\u001b[0m\u001b[1;33m.\u001b[0m\u001b[0mgetMin\u001b[0m\u001b[1;33m(\u001b[0m\u001b[0mintDataL\u001b[0m\u001b[1;33m)\u001b[0m\u001b[1;33m)\u001b[0m\u001b[1;33m\u001b[0m\u001b[1;33m\u001b[0m\u001b[0m\n\u001b[0;32m     11\u001b[0m \u001b[0mprint\u001b[0m\u001b[1;33m(\u001b[0m\u001b[1;34m'평균 : '\u001b[0m\u001b[1;33m,\u001b[0m\u001b[0mms\u001b[0m\u001b[1;33m.\u001b[0m\u001b[0mgetMean\u001b[0m\u001b[1;33m(\u001b[0m\u001b[0mintDataL\u001b[0m\u001b[1;33m)\u001b[0m\u001b[1;33m)\u001b[0m\u001b[1;33m\u001b[0m\u001b[1;33m\u001b[0m\u001b[0m\n",
      "\u001b[1;31mAttributeError\u001b[0m: module 'MyScoreMod' has no attribute 'getMax'"
     ]
    }
   ],
   "source": [
    "dataL = input('값입력').split(',') #1,2,3\n",
    "#getSum(dataL) #['1','2','3']\n",
    "\n",
    "intDataL=[int(i) for i in dataL]\n",
    "print(intDataL)\n",
    "\n",
    "res=ms.getSum(intDataL)\n",
    "print('총합 : ',res)\n",
    "print('최대 : ',ms.getMax(intDataL))\n",
    "print('최소 : ',ms.getMin(intDataL))\n",
    "print('평균 : ',ms.getMean(intDataL))\n",
    "\n",
    "print('Twosum:',ms.getTwoSum(3,1))\n",
    "'''\n",
    "__name__ 변수란?\n",
    "\n",
    "파이썬에서 __name__ 변수는 내부적으로 사용되는 특별한 변수이다.\n",
    "지금처럼 직접적으로 실행되는 파일의 __name__ 변수 값에는 __main__이름이 저장된다.\n",
    "반대로 간접적으로 실행되는 파일은 모듈명이 저장된다.\n",
    "'''\n",
    "\n",
    "if __name__ ==\"__main__\":\n",
    "    print(__name__)"
   ]
  }
 ],
 "metadata": {
  "kernelspec": {
   "display_name": "Python 3",
   "language": "python",
   "name": "python3"
  },
  "language_info": {
   "codemirror_mode": {
    "name": "ipython",
    "version": 3
   },
   "file_extension": ".py",
   "mimetype": "text/x-python",
   "name": "python",
   "nbconvert_exporter": "python",
   "pygments_lexer": "ipython3",
   "version": "3.8.5"
  }
 },
 "nbformat": 4,
 "nbformat_minor": 4
}
