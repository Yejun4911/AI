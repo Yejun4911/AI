{
 "cells": [
  {
   "cell_type": "markdown",
   "metadata": {},
   "source": [
    "### Tuple - 데이타 조작이 불가능 immutable\n",
    "    튜플은 몇가지 점을 제외하곤 거의 리스트와 비슷\n",
    "    다른점은\n",
    "    - 리스트는 [ ] 값을 둘러싸지만 튜플은 ( ) 를 사용한다.\n",
    "    - 리스트는 값을 추가, 삭제 수정 .. 즉 변경이 하지만 \n",
    "    - 튜플은 한번 생성하된 값을 수정 할 수 없다.\n",
    "    \n",
    "    - 만약에 튜플로 만들어진 값을 조작하고 싶다면\n",
    "      리스트로 형을 변환시킨 다음에 변경 할 수 있다. list(t)\n",
    "      \n",
    "      "
   ]
  },
  {
   "cell_type": "markdown",
   "metadata": {},
   "source": [
    "### 1. 튜플 생성하기"
   ]
  },
  {
   "cell_type": "code",
   "execution_count": 3,
   "metadata": {},
   "outputs": [
    {
     "data": {
      "text/plain": [
       "int"
      ]
     },
     "execution_count": 3,
     "metadata": {},
     "output_type": "execute_result"
    }
   ],
   "source": [
    "t1 = (1,2,3,4)\n",
    "t2 = (4,5,6)\n",
    "t1 \n",
    "t2\n",
    "\n",
    "#중요\n",
    "t3 = (1) #값이 한개..\n",
    "t4 = (1,) # 값이 하나 일때는 뒤에 , 를 붙혀야한다.\n",
    "print(type(t3))\n",
    "print(type(t4))"
   ]
  },
  {
   "cell_type": "markdown",
   "metadata": {},
   "source": [
    "#### 튜플을 사용하는경우\n",
    "    프로그램이 실행되는 동안 그 값이 항상 변경되지 않기를 바란다거나\n",
    "    값이 바뀔까봐 걱정하고 싶지 않다면, 무조건 튜플을 사용\n",
    "    이와는 반대로 수시로 그 값을 변경시켜야 하는 경우라면 리스트를 필히 사용하자\n",
    "    \n",
    "    "
   ]
  },
  {
   "cell_type": "code",
   "execution_count": null,
   "metadata": {},
   "outputs": [],
   "source": [
    "a,b,c=3,4,5\n",
    "print(type(a))\n",
    "\n",
    "a= 3,4,5 #()\n",
    "print(type(a))"
   ]
  },
  {
   "cell_type": "code",
   "execution_count": 4,
   "metadata": {},
   "outputs": [
    {
     "data": {
      "text/plain": [
       "[1, 2, 3, 4, 5, 6, 7, 8, 9, 0, 100]"
      ]
     },
     "execution_count": 4,
     "metadata": {},
     "output_type": "execute_result"
    }
   ],
   "source": [
    "t= (1,2,3,4,5,6,7,8,9,0,100)\n",
    "tList = list(t)\n",
    "tList"
   ]
  },
  {
   "cell_type": "code",
   "execution_count": 8,
   "metadata": {},
   "outputs": [
    {
     "name": "stdout",
     "output_type": "stream",
     "text": [
      "11\n",
      "11\n",
      "튜플 128\n",
      "리스트 144\n"
     ]
    }
   ],
   "source": [
    "'''\n",
    "len() 컨테이너에 포함된 데이타 항목의 개수를 리턴\n",
    "컨테이너란 튜플 , 딕셔너리 , 리스트, 셋 \n",
    "값들의 수정이 불필요한 경우라면 , 리스트보다는 튜플을 이용하는 것이 효율적\n",
    "메모리 사용이 훨씬 적다.\n",
    "sys.getsizeof() - 특정 개체의 메모리 사이즈를 바이트 단위로 반환.\n",
    "직접 메모리 용량을 손쉽게 확인 가능 \n",
    "'''\n",
    "import sys\n",
    "print(len(t))\n",
    "print(len(tList))\n",
    "print('튜플',sys.getsizeof(t))\n",
    "print('리스트',sys.getsizeof(tList))"
   ]
  },
  {
   "cell_type": "markdown",
   "metadata": {},
   "source": [
    "### 2. 튜플 값 삭제 및 변경"
   ]
  },
  {
   "cell_type": "code",
   "execution_count": null,
   "metadata": {},
   "outputs": [],
   "source": [
    "t[3] = 77 "
   ]
  },
  {
   "cell_type": "markdown",
   "metadata": {},
   "source": [
    "# 딕셔너리\n",
    "    1. 생성하기"
   ]
  },
  {
   "cell_type": "code",
   "execution_count": 13,
   "metadata": {},
   "outputs": [
    {
     "data": {
      "text/plain": [
       "{'name': 'DRAM', 'capa': '32g', 'maker': 'sk', 'price': 320000}"
      ]
     },
     "execution_count": 13,
     "metadata": {},
     "output_type": "execute_result"
    }
   ],
   "source": [
    "pro_dic={'name':'DRAM','capa':'32g','maker':'sk','price':320000}\n",
    "pro_dic"
   ]
  },
  {
   "cell_type": "markdown",
   "metadata": {},
   "source": [
    "#### 2. 데이터 조회하기\n",
    " 1)[key] 2)get(key)"
   ]
  },
  {
   "cell_type": "code",
   "execution_count": 14,
   "metadata": {},
   "outputs": [
    {
     "name": "stdout",
     "output_type": "stream",
     "text": [
      "DRAM\n",
      "DRAM\n"
     ]
    }
   ],
   "source": [
    "# 딕셔너리 데이타를 조회할때 리스트, 튜플과 달리 인덱싱, 슬라이싱 기법 적용 안됨.\n",
    "# 딕셔너리는 단 한가지 방법으로 조회 가능... key를 통해서 value를 찾는다.\n",
    "\n",
    "\n",
    "print(pro_dic['name'])\n",
    "print(pro_dic.get('name'))"
   ]
  },
  {
   "cell_type": "markdown",
   "metadata": {},
   "source": [
    "### 3.데이터 수정하기"
   ]
  },
  {
   "cell_type": "code",
   "execution_count": 17,
   "metadata": {},
   "outputs": [
    {
     "data": {
      "text/plain": [
       "{'name': 'DRAM',\n",
       " 'capa': '32g',\n",
       " 'maker': 'sk',\n",
       " 'price': 230000,\n",
       " 'loc': '이천',\n",
       " 'pop': 33}"
      ]
     },
     "execution_count": 17,
     "metadata": {},
     "output_type": "execute_result"
    }
   ],
   "source": [
    "pro_dic['price'] = 230000\n",
    "pro_dic\n",
    "\n",
    "### 데이터 추가하기\n",
    "addinfo={'loc':'이천','pop':33}\n",
    "pro_dic.update(addinfo)\n",
    "pro_dic"
   ]
  },
  {
   "cell_type": "markdown",
   "metadata": {},
   "source": [
    "### 4.데이터 삭제하기\n",
    "    del pro_dic[key]"
   ]
  },
  {
   "cell_type": "code",
   "execution_count": null,
   "metadata": {},
   "outputs": [],
   "source": [
    "del pro_dic['pop']\n",
    "pro_dic\n",
    "# del pro_dic[3] 인덱스 접근이 안된다.\n",
    "pro_dic"
   ]
  },
  {
   "cell_type": "markdown",
   "metadata": {},
   "source": [
    "### 딕셔너리를 다룰 때 주의 사항\n",
    "    1) 키값은 중복될 수 없다. 만약에 키가 중복되면 마지막 값으로 덮어 씌어진다.\n",
    "    2) 키값으로는 리스트 사용 불가 -- 투플은 가능\n",
    "    3) key - value -- "
   ]
  },
  {
   "cell_type": "code",
   "execution_count": null,
   "metadata": {},
   "outputs": [],
   "source": [
    "# a={[1,2,3]:'hi'} 불가능\n",
    "# a\n",
    "\n",
    "b= {(1,2,3):'hello'}\n",
    "b"
   ]
  },
  {
   "cell_type": "markdown",
   "metadata": {},
   "source": [
    "### 딕셔너리 함수 사용하기\n",
    "    keys() | values()"
   ]
  },
  {
   "cell_type": "code",
   "execution_count": 18,
   "metadata": {},
   "outputs": [
    {
     "data": {
      "text/plain": [
       "{'name': 'peter', 'age': 34, 'address': 'textas', 'phone': '1201234'}"
      ]
     },
     "execution_count": 18,
     "metadata": {},
     "output_type": "execute_result"
    }
   ],
   "source": [
    "dic = {'name':'peter','age':34,'address':'textas','phone':'1201234'}\n",
    "dic"
   ]
  },
  {
   "cell_type": "code",
   "execution_count": 21,
   "metadata": {},
   "outputs": [
    {
     "name": "stdout",
     "output_type": "stream",
     "text": [
      "dict_keys(['name', 'age', 'address', 'phone'])\n",
      "<class 'dict_keys'>\n",
      "['name', 'age', 'address', 'phone']\n",
      "dict_values(['peter', 34, 'textas', '1201234'])\n"
     ]
    }
   ],
   "source": [
    "# dic 의 키값만 뽑아서 출력\n",
    "dic_keys=dic.keys()\n",
    "print(dic_keys)\n",
    "print(type(dic_keys))\n",
    "\n",
    "# 키들의 리스트를 리스트로 변환\n",
    "print(list(dic_keys))\n",
    "'''\n",
    "dict_keys객체는 리스트를 사용하는 것과 별반 다르지 않지만\n",
    "리스트 고유의 기능 ... append, insert, pop , remove ...sort 함수를 적용 할 수 없다\n",
    "필요하면 list 변환 시켜놓고 함수 적용해야 한다.\n",
    "\n",
    "'''\n",
    "dic_values=dic.values()\n",
    "print(dic_values)\n",
    "print(type(dic_values)) #dict_values 객체로 반환.\n",
    "\n",
    "#key,value 모두 얻기\n",
    "dic_items=dic.items()\n",
    "print(dic_items)"
   ]
  },
  {
   "cell_type": "code",
   "execution_count": 22,
   "metadata": {},
   "outputs": [
    {
     "name": "stdout",
     "output_type": "stream",
     "text": [
      "None\n"
     ]
    }
   ],
   "source": [
    "###\n",
    "dic\n",
    "name1 = dic.get('aaa')\n",
    "print(name1) # 존재하지 않는 키를 입력하면 None 리턴\n",
    "\n",
    "name2 = dic['bbb'] #존재하지 않는 키를 입력하면 에러 발생\n",
    "print(name2)"
   ]
  },
  {
   "cell_type": "code",
   "execution_count": null,
   "metadata": {},
   "outputs": [],
   "source": []
  }
 ],
 "metadata": {
  "kernelspec": {
   "display_name": "Python 3",
   "language": "python",
   "name": "python3"
  },
  "language_info": {
   "codemirror_mode": {
    "name": "ipython",
    "version": 3
   },
   "file_extension": ".py",
   "mimetype": "text/x-python",
   "name": "python",
   "nbconvert_exporter": "python",
   "pygments_lexer": "ipython3",
   "version": "3.8.5"
  }
 },
 "nbformat": 4,
 "nbformat_minor": 4
}
