{
 "cells": [
  {
   "cell_type": "markdown",
   "metadata": {},
   "source": [
    "### 모듈 만들기\n",
    "    모듈이란?\n",
    "    변수와 기능을 가지고 있는 하나의 프레임단위\n",
    "    모듈을 가지고 있는 더 큰 프레임\n",
    "    "
   ]
  },
  {
   "cell_type": "code",
   "execution_count": null,
   "metadata": {},
   "outputs": [],
   "source": [
    "'''\n",
    "2개의 함수와 하나의 전역변수를 가지는 모듈을 만들었다.\n",
    "모듈은 확장자가 py로 끝나야 import 할 수 있다.\n",
    "1)쥬피터 노트북 File<Dowload as <Python..해서 직접추가\n",
    "2)%%writefile cal.py 매직명령어 사용\n",
    "    참고로 %% 매직명령어는 코드 가장 윗부분에 와야한다.\n",
    "    \n",
    "'''"
   ]
  },
  {
   "cell_type": "code",
   "execution_count": 1,
   "metadata": {},
   "outputs": [],
   "source": [
    "%%writefile cal.py\n",
    "\n",
    "def plus(a,b):\n",
    "    return a+b\n",
    "def minus(a,b):\n",
    "    return a-b\n",
    "modulename = 'CUSTOM_MODULE'\n"
   ]
  }
 ],
 "metadata": {
  "kernelspec": {
   "display_name": "Python 3",
   "language": "python",
   "name": "python3"
  },
  "language_info": {
   "codemirror_mode": {
    "name": "ipython",
    "version": 3
   },
   "file_extension": ".py",
   "mimetype": "text/x-python",
   "name": "python",
   "nbconvert_exporter": "python",
   "pygments_lexer": "ipython3",
   "version": "3.8.5"
  }
 },
 "nbformat": 4,
 "nbformat_minor": 4
}
