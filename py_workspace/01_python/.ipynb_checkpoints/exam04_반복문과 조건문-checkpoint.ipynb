{
 "cells": [
  {
   "cell_type": "markdown",
   "metadata": {},
   "source": [
    "### 엔코아는 해당 사이트의 관리자 페이지 비밀번호를 어떻게 설정할지 고민하던중\n",
    "    요즘 많이 듣던 노래 윤하-비밀번호 486에서 영감을 받아 아래와 같이 비밀번호를 만들기로 했다.\n",
    "\n",
    "    4,6,8로 이루어진 숫자\n",
    "\n",
    "    숫자        문자열\n",
    "    -------------------\n",
    "     4            love\n",
    "    -------------------\n",
    "     8            smile\n",
    "    -------------------\n",
    "     6            kiss\n",
    "    -------------------\n",
    "    \n",
    "    예를 들어 48686 숫자가 입력으로 주어지면\n",
    "    lovesmilekisssmilekiss 비밀번호를 반환한다."
   ]
  },
  {
   "cell_type": "code",
   "execution_count": 11,
   "metadata": {},
   "outputs": [
    {
     "name": "stdout",
     "output_type": "stream",
     "text": [
      "444\n",
      "lovelovelove\n"
     ]
    }
   ],
   "source": [
    "pwd=\"\"\n",
    "number = input()\n",
    "for i in number:\n",
    "    if i=='4':\n",
    "        pwd+='love'\n",
    "    if i=='8':\n",
    "        pwd+='smile'\n",
    "    if i=='6':\n",
    "        pwd+='kiss'\n",
    "\n",
    "print(pwd)"
   ]
  },
  {
   "cell_type": "code",
   "execution_count": 10,
   "metadata": {},
   "outputs": [
    {
     "ename": "IndentationError",
     "evalue": "expected an indented block (<ipython-input-10-e8db77cb89f3>, line 10)",
     "output_type": "error",
     "traceback": [
      "\u001b[1;36m  File \u001b[1;32m\"<ipython-input-10-e8db77cb89f3>\"\u001b[1;36m, line \u001b[1;32m10\u001b[0m\n\u001b[1;33m    return ans\u001b[0m\n\u001b[1;37m    ^\u001b[0m\n\u001b[1;31mIndentationError\u001b[0m\u001b[1;31m:\u001b[0m expected an indented block\n"
     ]
    }
   ],
   "source": [
    "def encorePass(nums):\n",
    "    my_dict={'4':'love','8':'smile','6':'kiss'}\n",
    "    ans=\"\"\n",
    "    for i in nums:\n",
    "        if i==\"4\":\n",
    "            ans+=my_dick[\"4\"] \n",
    "        elif i==\"8\":\n",
    "            ans+=my_dick[\"8\"]\n",
    "        else:\n",
    "            ans+=my_dick[\"6\"]\n",
    "        \n",
    "    return ans"
   ]
  },
  {
   "cell_type": "code",
   "execution_count": 13,
   "metadata": {},
   "outputs": [
    {
     "name": "stdout",
     "output_type": "stream",
     "text": [
      "486\n"
     ]
    },
    {
     "ename": "NameError",
     "evalue": "name 'encorePass' is not defined",
     "output_type": "error",
     "traceback": [
      "\u001b[1;31m---------------------------------------------------------------------------\u001b[0m",
      "\u001b[1;31mNameError\u001b[0m                                 Traceback (most recent call last)",
      "\u001b[1;32m<ipython-input-13-646ee4691da1>\u001b[0m in \u001b[0;36m<module>\u001b[1;34m\u001b[0m\n\u001b[0;32m      1\u001b[0m \u001b[0mnums\u001b[0m\u001b[1;33m=\u001b[0m \u001b[0minput\u001b[0m\u001b[1;33m(\u001b[0m\u001b[1;33m)\u001b[0m\u001b[1;33m\u001b[0m\u001b[1;33m\u001b[0m\u001b[0m\n\u001b[1;32m----> 2\u001b[1;33m \u001b[0mprint\u001b[0m\u001b[1;33m(\u001b[0m\u001b[0mencorePass\u001b[0m\u001b[1;33m(\u001b[0m\u001b[0mnums\u001b[0m\u001b[1;33m)\u001b[0m\u001b[1;33m)\u001b[0m\u001b[1;33m\u001b[0m\u001b[1;33m\u001b[0m\u001b[0m\n\u001b[0m",
      "\u001b[1;31mNameError\u001b[0m: name 'encorePass' is not defined"
     ]
    }
   ],
   "source": [
    "nums= input()\n",
    "print(encorePass(nums))"
   ]
  },
  {
   "cell_type": "code",
   "execution_count": null,
   "metadata": {},
   "outputs": [],
   "source": []
  }
 ],
 "metadata": {
  "kernelspec": {
   "display_name": "Python 3",
   "language": "python",
   "name": "python3"
  },
  "language_info": {
   "codemirror_mode": {
    "name": "ipython",
    "version": 3
   },
   "file_extension": ".py",
   "mimetype": "text/x-python",
   "name": "python",
   "nbconvert_exporter": "python",
   "pygments_lexer": "ipython3",
   "version": "3.8.5"
  }
 },
 "nbformat": 4,
 "nbformat_minor": 4
}
