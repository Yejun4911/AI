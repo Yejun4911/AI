{
 "cells": [
  {
   "cell_type": "markdown",
   "metadata": {},
   "source": [
    "## 함수"
   ]
  },
  {
   "cell_type": "code",
   "execution_count": null,
   "metadata": {},
   "outputs": [],
   "source": [
    "### 머신, 딥러닝 코드를 다루다 보면 함수 정의 부분이 중요하다\n",
    "    1. 함수 정의 기본 문법\n",
    "    def 함수이름(매개변수):\n",
    "        수행할 문장 1\n",
    "        수행할 문장 2\n",
    "    2. 함수를 만드는 방법 4가지\n",
    "        1) 위치매개변수\n",
    "        2) 기본 매개변수\n",
    "        3) 키워드매개변수\n",
    "        4) 가변매개변수"
   ]
  },
  {
   "cell_type": "code",
   "execution_count": 6,
   "metadata": {},
   "outputs": [
    {
     "name": "stdout",
     "output_type": "stream",
     "text": [
      "8\n"
     ]
    }
   ],
   "source": [
    "#1. 위치매개변수\n",
    "# 가장 기본적인 인자값 전달방식. 함수에서 정의한 위치대로 인자값이 할당됨\n",
    "def calc(num1,num2):\n",
    "    '''\n",
    "    인자값으로 받은 num1,num2\n",
    "    2개의 값을 더해서 result 로컬변수에 할당\n",
    "    그 값을 리턴하는 기능을 구현\n",
    "    '''\n",
    "    \n",
    "    result=num1+num2\n",
    "    return result\n",
    "print(calc(3,5))"
   ]
  },
  {
   "cell_type": "code",
   "execution_count": 7,
   "metadata": {},
   "outputs": [],
   "source": [
    "calc??"
   ]
  },
  {
   "cell_type": "code",
   "execution_count": 9,
   "metadata": {},
   "outputs": [
    {
     "name": "stdout",
     "output_type": "stream",
     "text": [
      "3와 4의 합은 7입니다\n"
     ]
    }
   ],
   "source": [
    "# 리턴값이 없는 경우\n",
    "def add(a,b):\n",
    "    print('%d와 %d의 합은 %d입니다' %(a,b,(a+b)))\n",
    "    '''\n",
    "    return문 자체가 없으면 함수는 None객체를 리턴한다.\n",
    "    '''\n",
    "add(3,4)"
   ]
  },
  {
   "cell_type": "code",
   "execution_count": 18,
   "metadata": {},
   "outputs": [
    {
     "name": "stdout",
     "output_type": "stream",
     "text": [
      "1\n",
      "2\n",
      "3\n",
      "4\n",
      "10\n",
      "0\n",
      "1\n",
      "2\n",
      "3\n",
      "4\n",
      "10\n"
     ]
    }
   ],
   "source": [
    "#.2 기본 매개변수\n",
    "# 변수값을 입력하지 않으면 기본값이 활성화됨.\n",
    "# 기본매개변수는 반드시 일반매개변수 뒤에 나와야한다.\n",
    "def calc1(end,start=0):\n",
    "    total = 0\n",
    "    for i in range(start,end):\n",
    "        print(i)\n",
    "        total+= i\n",
    "    return total\n",
    "print(calc1(5,1))\n",
    "print(calc1(5))# 에러나지 않는다. 기본값이 활성화 되어져서 들어간다        "
   ]
  },
  {
   "cell_type": "code",
   "execution_count": null,
   "metadata": {},
   "outputs": [],
   "source": [
    "import pandas as pd\n",
    "from pandas import DataFrame\n",
    "\n",
    "pd.read_csv?"
   ]
  },
  {
   "cell_type": "code",
   "execution_count": 20,
   "metadata": {},
   "outputs": [
    {
     "name": "stdout",
     "output_type": "stream",
     "text": [
      "나의 이름은 홍길동 이고 나이는 19 입니다\n",
      "나의 이름은 30 이고 나이는 홍길동 입니다\n",
      "나의 이름은 홍길동 이고 나이는 30 입니다\n"
     ]
    }
   ],
   "source": [
    "# 3. 키워드 매개변수 : 순서에 상관없이 직접 매개변수를 지정해서 전달한다\n",
    "def calc2(name,age):\n",
    "    print('나의 이름은',name,'이고 나이는',age,'입니다')\n",
    "calc2('홍길동',19)\n",
    "\n",
    "calc2(30,'홍길동') #에러 안나고 단기 잘못된 값이 전달된다. \n",
    "calc2(age=30,name='홍길동')"
   ]
  },
  {
   "cell_type": "code",
   "execution_count": 24,
   "metadata": {},
   "outputs": [
    {
     "data": {
      "text/html": [
       "<div>\n",
       "<style scoped>\n",
       "    .dataframe tbody tr th:only-of-type {\n",
       "        vertical-align: middle;\n",
       "    }\n",
       "\n",
       "    .dataframe tbody tr th {\n",
       "        vertical-align: top;\n",
       "    }\n",
       "\n",
       "    .dataframe thead th {\n",
       "        text-align: right;\n",
       "    }\n",
       "</style>\n",
       "<table border=\"1\" class=\"dataframe\">\n",
       "  <thead>\n",
       "    <tr style=\"text-align: right;\">\n",
       "      <th></th>\n",
       "      <th>e</th>\n",
       "      <th>f</th>\n",
       "      <th>g</th>\n",
       "      <th>h</th>\n",
       "    </tr>\n",
       "  </thead>\n",
       "  <tbody>\n",
       "    <tr>\n",
       "      <th>a</th>\n",
       "      <td>-1.988611</td>\n",
       "      <td>0.404177</td>\n",
       "      <td>-0.357128</td>\n",
       "      <td>1.087065</td>\n",
       "    </tr>\n",
       "    <tr>\n",
       "      <th>b</th>\n",
       "      <td>0.592446</td>\n",
       "      <td>0.042043</td>\n",
       "      <td>-0.259094</td>\n",
       "      <td>-0.504517</td>\n",
       "    </tr>\n",
       "    <tr>\n",
       "      <th>c</th>\n",
       "      <td>0.335531</td>\n",
       "      <td>-1.044933</td>\n",
       "      <td>0.802349</td>\n",
       "      <td>0.205793</td>\n",
       "    </tr>\n",
       "    <tr>\n",
       "      <th>d</th>\n",
       "      <td>0.068720</td>\n",
       "      <td>0.602070</td>\n",
       "      <td>0.914252</td>\n",
       "      <td>-0.825022</td>\n",
       "    </tr>\n",
       "  </tbody>\n",
       "</table>\n",
       "</div>"
      ],
      "text/plain": [
       "          e         f         g         h\n",
       "a -1.988611  0.404177 -0.357128  1.087065\n",
       "b  0.592446  0.042043 -0.259094 -0.504517\n",
       "c  0.335531 -1.044933  0.802349  0.205793\n",
       "d  0.068720  0.602070  0.914252 -0.825022"
      ]
     },
     "execution_count": 24,
     "metadata": {},
     "output_type": "execute_result"
    }
   ],
   "source": [
    "import numpy as np\n",
    "import pandas as pd\n",
    "from pandas import DataFrame\n",
    "df1=DataFrame(np.random.randn(4,4),\n",
    "         index=list('abcd'),\n",
    "         columns=list('efgh'))\n",
    "df1\n"
   ]
  },
  {
   "cell_type": "code",
   "execution_count": 26,
   "metadata": {},
   "outputs": [
    {
     "name": "stdout",
     "output_type": "stream",
     "text": [
      "(3, 4, 5)\n"
     ]
    }
   ],
   "source": [
    "#4. 가변 매개변수 : 인자값이 몇개 인지 모르는 상황에서 사용\n",
    "# 파이썬에서 print() 함수가 대표적이다. 원하는 만큼의 인자값을 받을 수 있도록 작성\n",
    "# 일반매개변수와 다르게 변수명 앞에서 *을 붙임\n",
    "# 역시 가변매개변수 뒤에 일반 매개변수가 뒤에 올 수 있다.\n",
    "# 가변 매개변수는 하나만 ㅅ용해야 한다\n",
    "\n",
    "def calc3(*args):\n",
    "    print(args)\n",
    "calc3(3,4,5) # 출력은 투플타입으로된다ㅣ"
   ]
  },
  {
   "cell_type": "code",
   "execution_count": 30,
   "metadata": {},
   "outputs": [
    {
     "name": "stdout",
     "output_type": "stream",
     "text": [
      "{'name': 'james'}\n"
     ]
    },
    {
     "data": {
      "text/plain": [
       "'\\n** 이 2개일때 반드시\\n인자값 입력시 주의를 요한다.\\n딕셔너리 타입!!\\n'"
      ]
     },
     "execution_count": 30,
     "metadata": {},
     "output_type": "execute_result"
    }
   ],
   "source": [
    "# 5.\n",
    "def calc4(**args):\n",
    "    print(args)\n",
    "calc4(name='james')\n",
    "'''\n",
    "** 이 2개일때 반드시\n",
    "인자값 입력시 주의를 요한다.\n",
    "딕셔너리 타입!!\n",
    "'''"
   ]
  },
  {
   "cell_type": "code",
   "execution_count": null,
   "metadata": {},
   "outputs": [],
   "source": [
    "# 일반 매개변수와 가변매개변수를 함께 사용하는 경우"
   ]
  },
  {
   "cell_type": "code",
   "execution_count": 32,
   "metadata": {},
   "outputs": [
    {
     "name": "stdout",
     "output_type": "stream",
     "text": [
      "james : (3, 4, 5)\n"
     ]
    }
   ],
   "source": [
    "def calc5(name,*args):\n",
    "    print(name,':',args)\n",
    "calc5('james', 3,4,5)"
   ]
  },
  {
   "cell_type": "markdown",
   "metadata": {},
   "source": [
    "문제 1\n",
    "#### 가변매개변수와 일반 매개변수를 함께 사용\n",
    "    3\n",
    "    6\n",
    "    9\n",
    "    가 출력되도록"
   ]
  },
  {
   "cell_type": "code",
   "execution_count": 33,
   "metadata": {},
   "outputs": [
    {
     "name": "stdout",
     "output_type": "stream",
     "text": [
      "3\n",
      "6\n",
      "9\n",
      "12\n",
      "15\n",
      "18\n"
     ]
    }
   ],
   "source": [
    "def value_times(times,*values):\n",
    "    for value in values:\n",
    "        print(times*value)\n",
    "value_times(3, 1,2,3,4,5,6)\n",
    "    "
   ]
  },
  {
   "cell_type": "markdown",
   "metadata": {},
   "source": [
    "### 모듈 사용하기\n",
    "    다른곳에 정의된 모듀을 받아올때 Import사용한다\n",
    "    모듈을 import 해올때는 반드시 py 확장자만 가능하다."
   ]
  },
  {
   "cell_type": "code",
   "execution_count": 34,
   "metadata": {},
   "outputs": [],
   "source": [
    "import cal"
   ]
  },
  {
   "cell_type": "code",
   "execution_count": 36,
   "metadata": {},
   "outputs": [
    {
     "name": "stdout",
     "output_type": "stream",
     "text": [
      "CUSTOM_MODULE 7 5\n"
     ]
    }
   ],
   "source": [
    "var1 = cal.modulename\n",
    "var2 = cal.plus(3,4)\n",
    "var3 = cal.minus(7,2)\n",
    "\n",
    "print(var1,var2,var3)"
   ]
  },
  {
   "cell_type": "code",
   "execution_count": 39,
   "metadata": {},
   "outputs": [
    {
     "name": "stdout",
     "output_type": "stream",
     "text": [
      "7 5 CUSTOM_MODULE\n"
     ]
    }
   ],
   "source": [
    "#2. 모듈가져오기\n",
    "from cal import plus,minus\n",
    "\n",
    "var1 = plus(3,4)\n",
    "var2 = minus(7,2)\n",
    "var3 = cal.modulename\n",
    "\n",
    "print(var1,var2,var3)\n"
   ]
  },
  {
   "cell_type": "code",
   "execution_count": null,
   "metadata": {},
   "outputs": [],
   "source": [
    "from random import randrange\n",
    "randrange(1,10)"
   ]
  },
  {
   "cell_type": "code",
   "execution_count": null,
   "metadata": {},
   "outputs": [],
   "source": []
  }
 ],
 "metadata": {
  "kernelspec": {
   "display_name": "Python 3",
   "language": "python",
   "name": "python3"
  },
  "language_info": {
   "codemirror_mode": {
    "name": "ipython",
    "version": 3
   },
   "file_extension": ".py",
   "mimetype": "text/x-python",
   "name": "python",
   "nbconvert_exporter": "python",
   "pygments_lexer": "ipython3",
   "version": "3.8.5"
  }
 },
 "nbformat": 4,
 "nbformat_minor": 4
}
