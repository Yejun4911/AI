{
 "cells": [
  {
   "cell_type": "markdown",
   "metadata": {},
   "source": [
    "'''\n",
    "4개의 함수를 가지는 모듈\n",
    "getSum(data)\n",
    "getMean(data)\n",
    "getMax(data)\n",
    "getMin(data)\n",
    "\n",
    "getTwoSum(1,3)\n",
    "'''"
   ]
  },
  {
   "cell_type": "code",
   "execution_count": 22,
   "metadata": {},
   "outputs": [],
   "source": [
    "#%%writefile MyScoreMod.py\n",
    "\n",
    "def getSum(data):\n",
    "    total=0\n",
    "    for i in data:\n",
    "        total+=i\n",
    "    return total\n",
    "\n",
    "def getMean(data):\n",
    "    return getSum(data)/len(data)\n",
    "\n",
    "def getMax(data):\n",
    "    maxV=data[0]\n",
    "    for i in data[1:]:\n",
    "        if i>maxV:\n",
    "            maxV=i\n",
    "            \n",
    "    return maxV\n",
    "def getMin(data):   \n",
    "    minV=data[0]\n",
    "    for i in data[1:]:\n",
    "        if i<minV:\n",
    "            minV=i\n",
    "    return minV\n",
    "def getTwoSum(num1,num2):\n",
    "    sum=0\n",
    "    if num1>num2:\n",
    "        num1,num2 = num2,num1;\n",
    "    for i in range(num1,num2+1):\n",
    "        sum+=i\n",
    "    return sum"
   ]
  },
  {
   "cell_type": "code",
   "execution_count": 23,
   "metadata": {},
   "outputs": [
    {
     "name": "stdout",
     "output_type": "stream",
     "text": [
      "값입력1,2,3\n",
      "[1, 2, 3]\n",
      "총합 :  6\n",
      "평균 :  2.0\n",
      "최대 :  3\n",
      "최소 :  1\n",
      "사이값 :  6\n"
     ]
    }
   ],
   "source": [
    "\n",
    "dataL = input('값입력').split(',') #1,2,3\n",
    "#getSum(dataL) #['1','2','3']\n",
    "\n",
    "intDataL=[int(i) for i in dataL]\n",
    "print(intDataL)\n",
    "\n",
    "\n",
    "print('총합 : ',getSum(intDataL))\n",
    "print('평균 : ',getMean(intDataL))\n",
    "print('최대 : ',getMax(intDataL))\n",
    "print('최소 : ',getMin(intDataL))\n",
    "print('사이값 : ',getTwoSum(3,1))\n"
   ]
  },
  {
   "cell_type": "code",
   "execution_count": null,
   "metadata": {},
   "outputs": [],
   "source": []
  },
  {
   "cell_type": "code",
   "execution_count": null,
   "metadata": {},
   "outputs": [],
   "source": []
  },
  {
   "cell_type": "code",
   "execution_count": null,
   "metadata": {},
   "outputs": [],
   "source": []
  },
  {
   "cell_type": "code",
   "execution_count": null,
   "metadata": {},
   "outputs": [],
   "source": []
  }
 ],
 "metadata": {
  "kernelspec": {
   "display_name": "Python 3",
   "language": "python",
   "name": "python3"
  },
  "language_info": {
   "codemirror_mode": {
    "name": "ipython",
    "version": 3
   },
   "file_extension": ".py",
   "mimetype": "text/x-python",
   "name": "python",
   "nbconvert_exporter": "python",
   "pygments_lexer": "ipython3",
   "version": "3.8.5"
  }
 },
 "nbformat": 4,
 "nbformat_minor": 4
}
